{
 "cells": [
  {
   "cell_type": "code",
   "execution_count": 1,
   "id": "0d56ad59-7ee9-4abe-9ac8-7556baf91e6c",
   "metadata": {},
   "outputs": [],
   "source": [
    "import numpy\n",
    "from keras.models import Sequential\n",
    "from keras.layers import Dense\n",
    "from keras.layers import Dropout\n",
    "from keras.layers import LSTM\n",
    "from keras.callbacks import ModelCheckpoint\n",
    "from keras.utils import np_utils"
   ]
  },
  {
   "cell_type": "code",
   "execution_count": 2,
   "id": "286a326a-b5cb-4fb7-aa6a-a2ea48e7484d",
   "metadata": {},
   "outputs": [],
   "source": [
    "import tensorflow as tf"
   ]
  },
  {
   "cell_type": "code",
   "execution_count": 3,
   "id": "04189041-406f-46b1-b62c-0274d5668117",
   "metadata": {},
   "outputs": [],
   "source": [
    "# gpus = tf.config.list_physical_devices('GPU')\n",
    "# if gpus:\n",
    "#   # Restrict TensorFlow to only use the first GPU\n",
    "#   try:\n",
    "#     tf.config.set_visible_devices(gpus[0], 'GPU')\n",
    "#     logical_gpus = tf.config.list_logical_devices('GPU')\n",
    "#     print(len(gpus), \"Physical GPUs,\", len(logical_gpus), \"Logical GPU\")\n",
    "#   except RuntimeError as e:\n",
    "#     # Visible devices must be set before GPUs have been initialized\n",
    "#     print(e)\n"
   ]
  },
  {
   "cell_type": "code",
   "execution_count": 4,
   "id": "968b6ff5-cec1-44ab-8d6b-5966ce7b8a3d",
   "metadata": {},
   "outputs": [],
   "source": [
    "# gpus = tf.config.list_physical_devices('GPU')\n",
    "# if gpus:\n",
    "#   try:\n",
    "#     # Currently, memory growth needs to be the same across GPUs\n",
    "#     for gpu in gpus:\n",
    "#       tf.config.experimental.set_memory_growth(gpu, True)\n",
    "#     logical_gpus = tf.config.list_logical_devices('GPU')\n",
    "#     print(len(gpus), \"Physical GPUs,\", len(logical_gpus), \"Logical GPUs\")\n",
    "#   except RuntimeError as e:\n",
    "#     # Memory growth must be set before GPUs have been initialized\n",
    "#     print(e)\n"
   ]
  },
  {
   "cell_type": "code",
   "execution_count": 5,
   "id": "394f1695-31ef-4579-a63e-6ce4399b4b07",
   "metadata": {},
   "outputs": [],
   "source": [
    "import re"
   ]
  },
  {
   "cell_type": "code",
   "execution_count": 6,
   "id": "ca936595-8cc7-48ea-89d9-d8195b1c83ab",
   "metadata": {},
   "outputs": [],
   "source": [
    "import sys"
   ]
  },
  {
   "cell_type": "code",
   "execution_count": 7,
   "id": "ef09ac54-402c-47c1-8793-39415652f731",
   "metadata": {},
   "outputs": [],
   "source": [
    "from tensorflow import keras"
   ]
  },
  {
   "cell_type": "code",
   "execution_count": 8,
   "id": "47bba517-901a-46b3-a1b0-507d9d7f28eb",
   "metadata": {},
   "outputs": [],
   "source": [
    "filename = \"bad_luck_brian_memetext.txt\"\n",
    "raw_text = open(filename, 'r', encoding='utf-8').read()\n",
    "raw_text = raw_text.lower()\n",
    "raw_text = raw_text.replace('\\n',' ')"
   ]
  },
  {
   "cell_type": "code",
   "execution_count": 9,
   "id": "9d403c16-99a9-475a-88b5-8f1dbc513af5",
   "metadata": {
    "scrolled": true,
    "tags": []
   },
   "outputs": [
    {
     "name": "stdout",
     "output_type": "stream",
     "text": [
      "\"i'm on a boat!\"|titanic drinks fresh milk out of a cow|it was a bull ringtone goes of at funeral|highway to hell get touched by jesus|in a mexican prison gets hit by car sees a bright light|second car yolo|reincarnated hot girl gets in the elevator|farted 2 seconds ago googles 'gary oldman' forgets the 'r'|scarred for life steps outside to see what all the 'buzz' is about|africanized bees wishes upon a star|gets hit by meteor goes hunting|gets shot by a deer commits suicide|gets arrested gets a new follower on twitter|slenderman sends mom friend request on facebook|denied qualifies for olympic table tennis|plays china in first round at girlfriends house for the first time|takes a dump and clogs toilet is batman for halloween|parents die throws rock at the ground|misses kids on call of duty say they slept with his mom|true wins a free ride on a ship|titanic  gets a pet|grumpy cat orders happy meal|gets sad meal goes to jail in monopoly|gets raped throws a party|not invited mom hires magician for birthday party|voldemort  takes a bullet for a girl|gets friendzoned dies in video game|fifa  deletes e-mail offering millions of dollars|wasn't spam watches the avengers in 3d|gets punched by the hulk plays mariokart|runs out of gas goes to food court|guilty buys fake id|says he's 17 tries to burn bee's nest|gets attacked by flaming bees single player game|player 2 looks on the brighter side of life|goes blind finally gets laid|off clicks at \"yes i'm over 18\"|swat storms house teaches dog to play dead|dog dies survives hiroshima |takes next train to nagasaki jacking off|windows restarts for updates doesn't send chain letter|actually dies one of thousands with a bad yearbook photo|meme finds fountain of youth|drowns  meets good guy greg|gets bullied pats himself on the back|breaks his spine first kiss|first cousin plays minesweeper|bomb first click first day at new school|columbine makes a funny meme|someone copies it and gets more likes sends friend request to forever alone guy|denied has 1 friend |his shadow wears bullet proof vest|stabbed gets stoned for the first time|people throw rocks at him jacking off |facebook webcam is on  getting an x-box for christmas,|world ends 21st december locks car keys in house|house keys locked in car tries to be cool|gets hypothermia visits africa|eaten by polar bear first day as director of a nuclear plant|chernobyl april 26, 1986 what do dyslexic zombies eat|brians got a new job|at twinkie factory finds the fountain of youth|drowns in it gets a goodnight kiss from mom|gets a boner first time on plane|9/11 finally wins a game|russian roulette self-employed|didn't win employee of the month forgets driver's license at home|deported to mexico farts in public|explosive diarrhea rolls out of bed|lands on boner creates myspace page|tom unfriends him hires a prostitute|gets friendzoned gets fake girlfriend online|fake girlfriend dies has imaginary girlfriend|still gets cheated on drops soap in own shower|still gets raped ordered beats by doctor dre |doctor dre visits his house and beats him does epic drum solo while driving|sets off airbag turns on blender|sued by skrillex for copyright infringement suduced by teacher|homeschooled buys synthetic flowers|they die gets hit by car and sees a brigt light|another car poses for school picture|gets turned into a meme tries to quietly buy condoms at the store|millionth customer gets beat up in school|suspended for \"involvement\" reads amazon kindle|gets paper cut doesnt send chainmail|dies  needs life saving surgery|not enough likes first time riding the bus|keanu reeves gets on self employed|gets fired calls shotgun|gets shot smokes weed for first time|dies gets invited to a game|saw 7 sets fire to the rain|drowns and burns to death walks to school|gets hit by the school bus eats alphabet soup|chokes on the d buys expensive zombie apocalypse kit|becomes first zombie hopes his younger brother is as unlucky as him|success kid last day of school|gets detention eats twinkie for first time|hostess goes out of business converts to judaism|another holacaust buys video game|releases special edition next day kidnapped|parents arranged it  tries to fake his own death|dies scored his first goal|his team lost      1-0 wins golden ticket to wonka's chocolate factory|gets diabetes 15 years old|mother tries to abort him finally works up courage to talk to girl|she speaks a different language wins free, all-expenses paid trip|to north korea finally gets eyecontact with a girl|medusa parents divorced|no one wants custody feels lucky|gets shot by clint eastwood dad buys 3d tv|loses an eye moves out of haunted house|ghost follows him to new house gets pet rock|pet rock dies getting a ferrari for christmas|world ends 21st december  jumps to conclusion|dies on impact lights a candle|whole planet burns adds dad on facebook|declined defends himself from thug|gets arrested first blow job|didn't like the taste starts wave at baskettball game|drowns wears nike|can't do it eats alphabet soup|chokes on the d gets laid with female singer|justin beiber finally gets a job day before romney elected|big bird        gets tickets for free flight|9/11 finds $100 on ground|monopoly money finds a pill for immortality|chokes on it sets up his own birthday party|isn't invited attends open book exam|wrong book googles \"grandfather clock\"|forgets the \"l\" goes to court|guilty until proven innocent gets called by a girl who says 'come on over, there's nobody home\"|goes over. nobody's home. finds stray dog|insanity wolf has first three way|prison survives 10 story fall|trips on shoelace and dies buys seeing eye dog |dog goes blind gets married|friendzoned looks both ways before crossing street|gets hit by parked car studies 35 hours for final|forgets to put name on test puts the lotion on his skin|still gets the hose again goes to hooters|male waiter watches \"die another day\"|dies today picked for a competition|the hunger games cheats on his right hand|with his left hand. plays family monopoly|raped in jail goes to job interview|fired smiles for the female photographer|gets me tooed fights magikarp|gets splashed to death takes a shower|drowns escapes from burning building|gets hit by a firetruck creates pill of immortality|chokes to death on it it's friday the 13th|has good luck catches them all|loses save file loses virginity|it comes back phone goes off at funeral |\"staying alive\" first time on an airplane|terrorist attack cpr training at school|accidentally kills the doll loses virginity|in jail goes to 24 hour mcdonalds|closed gets banana peel in mario kart|is in last place \"break a leg out there\"|breaks all of his bones apart from his leg gets expelled|from homeschool thought of great meme idea|memegenerator down again. steps in a puddle|eaten by a shark finally kisses a girl|gets ebola survives the atomic bombing of hiroshima|catches the first train to nagasaki gets a golden ticket from wonka bar|offer expired yesterday gets laid|off threatened by 9 year old on xbox|kid follows through downloads file from torrent|f.b.i storms house beeps at traffic lights |arrested for prostituion \"im on a boat\"|titanic got romantic text|from obama stops to smell the flowers|gets stung by bee sends dic pic to girl|gets one back goes to a nickleback concert|goes to a nickleback concert meets young girl on the internet|chris hansen gets season tickets|lockout year nothing but net|ping pong wishes to be more like batman|parents die buys tear free shampoo|still cries in the shower throws a master ball|it misses goes to professor oak for first pokemon|gets a magikarp goes to see a psychotherapist|gets murdered by 'psycho the rapist' goes to strip club|mom works there hopes for zombie apocalypse|first zombie finally gets something    positive in his life|aids-test goes to jail in monopoly|gets raped house on fire|911 puts him on hold scores winning goal|loses 1-0 hi pieples|i et chiken sandich  the biggest conspiracy theory|is that the government cares about you dumps adele|no song written about him gets doll for christmas|chucky plays fifa|gets killed finds pill of imortality|chokes on it smokes a joint for the first time|chokes to death. buys pack of scissors|has no way to open them 1 hour conversation with friends|realises you where talking to the mirror messages girl on facebook|goes offline google searches gary oldman|forgets to type the \"r\" gets girlfriend|taylor swift tries to smile at yearbook photo|the whole world jokes about him for generations asks out only girl without date to prom|girl commits suicide goes to work in a good mood|accused of being drunk first trip to china|malaysia air flight 370 wakes up with boner|dads boner gets a letter from secret admirer|anthrax home schools|still gets bullied survives boston bombings|goes home to waco, texas makes a funny meme|someone copies it and gets more likes gets touched by jesus|in a spanish prison finds fountain of youth|drowns won third place in beauty contest|only contestant minimize screen when boss enters office|second screen worse than the first buys his clothes from thift shop for school photo|still considered white privilege hi pieples|today my birtday i get presants parents send him to summer camp|camp crystal lake finally gets chosen for a competition|the hunger games does google search for \"symptoms of venereal disease|accidentally posts to facebook smartest person ever|but nobody takes him seriously tries to divest funds from police to mental healthcare|gets called \"crazy\" checks himself...|still wrecks himself gets first \"a\" on test|hepatits met friends at an asian restaurant |woke up on a ship on his way to bangkok  when parents are getting  divorce|and no one fights for custody hi pieples|i hav go hopstal dotor medcin no work hi pieples|i mek brekfast today and play minkraf all day eith frend name comes up in lottery|drafted finally loses virginity|raped in prison survives the mayan apocalypse on the 21st|gets hit crossing the street on the 22nd eats alphabet soup|chokes on the \"d\" bought a new house|disaster girl burns it to the ground finally gets a girlfriend|its justin bieber hi pieples|frend she help giv medcin and we play geme meets nicki minaj...|meets nicki minaj searches through 100 pages of memes|doesn't find his goes to jail in monopoly|drops the soap self employed|gets fired tries to tear paper|dislocates shoulder hi fukin|peiples fuk u hi pieples|construkson mek new rod  buys sheet to make ghost costume for halloween|gets mistaken for kkk walks through a desert|gets hit by a bus downloads a song|life sentence quand je kick un turc|sur combat arms goes to hair salon|dyes sings adele song is shower|water catches on fire takes two aleve for headache|overdoses searches for remote control|finds his adoption papers raised by pamela anderson|bottle fed reincarnates|to himself touched by jesus|in mexican prison says yolo|goes missing relaxes at omaha beach|june 6, 1944 runs with scissors|gets fondled takes shower|drowns hires dog sitter while on vacation|michael vick finally picked to be on a team|hunger games girl finally looks at him|medussa dying of dehydration|drowns balls get sucked|in quicksand has open-book exam|forgets book waits 5 hours in line for new iphone|forgets wallet renames wifi network \"isis hq\" for laughs|held for questioning receives letter from his crush|restraining order tries marijuana|overdoses   finally finishes that puzzle  goes to show mom| drops  it  hi pieples|frend com over to play geme on compoter wit me becomes so happy he could die|actually dies organizes a party|is not invited goes to black metal concert|gets sacrificed hosts a party|gets kicked out wins vacation|north korea goes on first train ride|auschwitz takes myers briggs personality test|fails gets offered hollywood role|brokeback mountain ii throws ball at ground|misses \"fire at will\"|name's will searches \"grandfather clock\" on google|forgets the \"l\" in clock goes on a blind date|with a karen hi agein evry stoopid pieples|fuk u agein hi pieples|let be frends hi pieples|hosptal dotor say i need medcin hi pieples|i a good meme guy hi pieples|my medcin not taist good hi pieples|today nice day i go ouside hi pieples|i get muny for halp clening haus hi pieples|i play fornit with frend says \"come at me bro\"|gets jizzed on enters contest for most bad luck|2nd place first prank call|liam neeson answers finally talks to a girl|$1.99/minute says yolo|dies won contest yesterday|lifetime supply of twinkies spent two years calculating a formula for stock prediction  |left it on the bus googles \"gary oldman\" but forgets the \"r\"|scarred for life wins free tickets for a sold out concert|justin bieber takes industrial strength laxative|stuck in elevator for three hours takes first international flight|mh370 wins free trip|iraq uploads video to youtube, nobody sees it|someone steals it, becomes viral buys a pack of condoms \"just in case\"|they expire aces final|forgets to write his name locks car keys in house|locks house keys in the car buys a multiplayer game|everybody else plays singleplayer finds fountain of youth|drowns finally picked first|world war 3 draft hi pieples |i happy piture fix on mem site accidently downloads a movie |gets arrested by fbi parents get divorced|no one fights for custody creates meme that becomes popular|no one believes he is the author eats a jawbreaker |breaks jaw rich relative left him millions |so says the lawyers email  \n"
     ]
    }
   ],
   "source": [
    "print(raw_text)"
   ]
  },
  {
   "cell_type": "code",
   "execution_count": 10,
   "id": "7cd32393-8352-4cec-b4ac-e3f90577ae56",
   "metadata": {},
   "outputs": [],
   "source": [
    "chars = sorted(list(set(raw_text)))\n",
    "char_to_int = dict((c, i) for i, c in enumerate(chars))"
   ]
  },
  {
   "cell_type": "code",
   "execution_count": 11,
   "id": "227d5911-11bd-43da-9a50-aaed18de98c9",
   "metadata": {
    "scrolled": true,
    "tags": []
   },
   "outputs": [
    {
     "data": {
      "text/plain": [
       "{' ': 0,\n",
       " '!': 1,\n",
       " '\"': 2,\n",
       " '$': 3,\n",
       " \"'\": 4,\n",
       " ',': 5,\n",
       " '-': 6,\n",
       " '.': 7,\n",
       " '/': 8,\n",
       " '0': 9,\n",
       " '1': 10,\n",
       " '2': 11,\n",
       " '3': 12,\n",
       " '4': 13,\n",
       " '5': 14,\n",
       " '6': 15,\n",
       " '7': 16,\n",
       " '8': 17,\n",
       " '9': 18,\n",
       " 'a': 19,\n",
       " 'b': 20,\n",
       " 'c': 21,\n",
       " 'd': 22,\n",
       " 'e': 23,\n",
       " 'f': 24,\n",
       " 'g': 25,\n",
       " 'h': 26,\n",
       " 'i': 27,\n",
       " 'j': 28,\n",
       " 'k': 29,\n",
       " 'l': 30,\n",
       " 'm': 31,\n",
       " 'n': 32,\n",
       " 'o': 33,\n",
       " 'p': 34,\n",
       " 'q': 35,\n",
       " 'r': 36,\n",
       " 's': 37,\n",
       " 't': 38,\n",
       " 'u': 39,\n",
       " 'v': 40,\n",
       " 'w': 41,\n",
       " 'x': 42,\n",
       " 'y': 43,\n",
       " 'z': 44,\n",
       " '|': 45}"
      ]
     },
     "execution_count": 11,
     "metadata": {},
     "output_type": "execute_result"
    }
   ],
   "source": [
    "char_to_int"
   ]
  },
  {
   "cell_type": "code",
   "execution_count": 12,
   "id": "29532109-f7f9-4ee3-8e82-62963815ad2f",
   "metadata": {},
   "outputs": [
    {
     "name": "stdout",
     "output_type": "stream",
     "text": [
      "Total Characters:  13468\n",
      "Total Vocab:  46\n"
     ]
    }
   ],
   "source": [
    "n_chars = len(raw_text)\n",
    "n_vocab = len(chars)\n",
    "print(\"Total Characters: \", n_chars)\n",
    "print(\"Total Vocab: \", n_vocab)"
   ]
  },
  {
   "cell_type": "code",
   "execution_count": 13,
   "id": "49e37364-d811-4af7-8ce4-39e4d3e1e0b4",
   "metadata": {},
   "outputs": [
    {
     "name": "stdout",
     "output_type": "stream",
     "text": [
      "Total Patterns:  13368\n"
     ]
    }
   ],
   "source": [
    "seq_length = 100\n",
    "dataX = []\n",
    "dataY = []\n",
    "for i in range(0, n_chars - seq_length, 1):\n",
    "    seq_in = raw_text[i:i + seq_length]\n",
    "    seq_out = raw_text[i + seq_length]\n",
    "    dataX.append([char_to_int[char] for char in seq_in])\n",
    "    dataY.append(char_to_int[seq_out])\n",
    "n_patterns = len(dataX)\n",
    "print(\"Total Patterns: \", n_patterns)"
   ]
  },
  {
   "cell_type": "code",
   "execution_count": 14,
   "id": "42652a2a-481e-4909-a7a5-58596cfdc7ea",
   "metadata": {},
   "outputs": [
    {
     "name": "stdout",
     "output_type": "stream",
     "text": [
      "the author eats a jawbreaker |breaks jaw rich relative left him millions |so says the lawyers email \n"
     ]
    }
   ],
   "source": [
    "print(seq_in)"
   ]
  },
  {
   "cell_type": "code",
   "execution_count": 15,
   "id": "15ce8918-98d1-45e6-bc2a-37b9a1c3f9ab",
   "metadata": {},
   "outputs": [
    {
     "name": "stdout",
     "output_type": "stream",
     "text": [
      "[[2, 27, 4, 31, 0, 33, 32, 0, 19, 0, 20, 33, 19, 38, 1, 2, 45, 38, 27, 38, 19, 32, 27, 21, 0, 22, 36, 27, 32, 29, 37, 0, 24, 36, 23, 37, 26, 0, 31, 27, 30, 29, 0, 33, 39, 38, 0, 33, 24, 0, 19, 0, 21, 33, 41, 45, 27, 38, 0, 41, 19, 37, 0, 19, 0, 20, 39, 30, 30, 0, 36, 27, 32, 25, 38, 33, 32, 23, 0, 25, 33, 23, 37, 0, 33, 24, 0, 19, 38, 0, 24, 39, 32, 23, 36, 19, 30, 45, 26, 27], [27, 4, 31, 0, 33, 32, 0, 19, 0, 20, 33, 19, 38, 1, 2, 45, 38, 27, 38, 19, 32, 27, 21, 0, 22, 36, 27, 32, 29, 37, 0, 24, 36, 23, 37, 26, 0, 31, 27, 30, 29, 0, 33, 39, 38, 0, 33, 24, 0, 19, 0, 21, 33, 41, 45, 27, 38, 0, 41, 19, 37, 0, 19, 0, 20, 39, 30, 30, 0, 36, 27, 32, 25, 38, 33, 32, 23, 0, 25, 33, 23, 37, 0, 33, 24, 0, 19, 38, 0, 24, 39, 32, 23, 36, 19, 30, 45, 26, 27, 25], [4, 31, 0, 33, 32, 0, 19, 0, 20, 33, 19, 38, 1, 2, 45, 38, 27, 38, 19, 32, 27, 21, 0, 22, 36, 27, 32, 29, 37, 0, 24, 36, 23, 37, 26, 0, 31, 27, 30, 29, 0, 33, 39, 38, 0, 33, 24, 0, 19, 0, 21, 33, 41, 45, 27, 38, 0, 41, 19, 37, 0, 19, 0, 20, 39, 30, 30, 0, 36, 27, 32, 25, 38, 33, 32, 23, 0, 25, 33, 23, 37, 0, 33, 24, 0, 19, 38, 0, 24, 39, 32, 23, 36, 19, 30, 45, 26, 27, 25, 26], [31, 0, 33, 32, 0, 19, 0, 20, 33, 19, 38, 1, 2, 45, 38, 27, 38, 19, 32, 27, 21, 0, 22, 36, 27, 32, 29, 37, 0, 24, 36, 23, 37, 26, 0, 31, 27, 30, 29, 0, 33, 39, 38, 0, 33, 24, 0, 19, 0, 21, 33, 41, 45, 27, 38, 0, 41, 19, 37, 0, 19, 0, 20, 39, 30, 30, 0, 36, 27, 32, 25, 38, 33, 32, 23, 0, 25, 33, 23, 37, 0, 33, 24, 0, 19, 38, 0, 24, 39, 32, 23, 36, 19, 30, 45, 26, 27, 25, 26, 41], [0, 33, 32, 0, 19, 0, 20, 33, 19, 38, 1, 2, 45, 38, 27, 38, 19, 32, 27, 21, 0, 22, 36, 27, 32, 29, 37, 0, 24, 36, 23, 37, 26, 0, 31, 27, 30, 29, 0, 33, 39, 38, 0, 33, 24, 0, 19, 0, 21, 33, 41, 45, 27, 38, 0, 41, 19, 37, 0, 19, 0, 20, 39, 30, 30, 0, 36, 27, 32, 25, 38, 33, 32, 23, 0, 25, 33, 23, 37, 0, 33, 24, 0, 19, 38, 0, 24, 39, 32, 23, 36, 19, 30, 45, 26, 27, 25, 26, 41, 19]]\n"
     ]
    }
   ],
   "source": [
    "print(dataX[:5])"
   ]
  },
  {
   "cell_type": "code",
   "execution_count": 16,
   "id": "318daf5c-33ca-4d9f-b66c-d58e21b9c81f",
   "metadata": {},
   "outputs": [
    {
     "name": "stdout",
     "output_type": "stream",
     "text": [
      "[25, 26, 41, 19, 43]\n"
     ]
    }
   ],
   "source": [
    "print(dataY[:5])"
   ]
  },
  {
   "cell_type": "code",
   "execution_count": 17,
   "id": "5cb55310-eddb-4d7a-ace9-3d3e834d0bbb",
   "metadata": {},
   "outputs": [],
   "source": [
    "# reshape X to be [samples, time steps, features]\n",
    "X = numpy.reshape(dataX, (n_patterns, seq_length, 1))\n",
    "# normalize\n",
    "X = X / float(n_vocab)\n",
    "# one hot encode the output variable\n",
    "y = np_utils.to_categorical(dataY)"
   ]
  },
  {
   "cell_type": "code",
   "execution_count": 18,
   "id": "9f9ebdb3-c345-4b2e-9e31-08ed5593fe25",
   "metadata": {},
   "outputs": [],
   "source": [
    "model = Sequential()\n",
    "model.add(LSTM(256, input_shape=(X.shape[1], X.shape[2]), return_sequences=True))\n",
    "model.add(Dropout(0.2))\n",
    "model.add(LSTM(256))\n",
    "model.add(Dropout(0.2))\n",
    "model.add(Dense(y.shape[1], activation='softmax'))\n",
    "model.compile(loss='categorical_crossentropy', optimizer='adam')"
   ]
  },
  {
   "cell_type": "code",
   "execution_count": 20,
   "id": "bea0a3bd-3946-4efe-856d-606910af6294",
   "metadata": {},
   "outputs": [
    {
     "name": "stdout",
     "output_type": "stream",
     "text": [
      "Model: \"sequential\"\n",
      "_________________________________________________________________\n",
      "Layer (type)                 Output Shape              Param #   \n",
      "=================================================================\n",
      "lstm (LSTM)                  (None, 100, 256)          264192    \n",
      "_________________________________________________________________\n",
      "dropout (Dropout)            (None, 100, 256)          0         \n",
      "_________________________________________________________________\n",
      "lstm_1 (LSTM)                (None, 256)               525312    \n",
      "_________________________________________________________________\n",
      "dropout_1 (Dropout)          (None, 256)               0         \n",
      "_________________________________________________________________\n",
      "dense (Dense)                (None, 46)                11822     \n",
      "=================================================================\n",
      "Total params: 801,326\n",
      "Trainable params: 801,326\n",
      "Non-trainable params: 0\n",
      "_________________________________________________________________\n",
      "None\n"
     ]
    }
   ],
   "source": [
    "print(model.summary())"
   ]
  },
  {
   "cell_type": "code",
   "execution_count": 16,
   "id": "adba32b6-32b9-4da6-b3cc-0d60ce2c7d71",
   "metadata": {
    "scrolled": true,
    "tags": []
   },
   "outputs": [
    {
     "ename": "NameError",
     "evalue": "name 'model' is not defined",
     "output_type": "error",
     "traceback": [
      "\u001b[1;31m---------------------------------------------------------------------------\u001b[0m",
      "\u001b[1;31mNameError\u001b[0m                                 Traceback (most recent call last)",
      "\u001b[1;32m<ipython-input-16-c5277d8073ce>\u001b[0m in \u001b[0;36m<module>\u001b[1;34m\u001b[0m\n\u001b[1;32m----> 1\u001b[1;33m \u001b[0mmodel\u001b[0m\u001b[1;33m.\u001b[0m\u001b[0mfit\u001b[0m\u001b[1;33m(\u001b[0m\u001b[0mX\u001b[0m\u001b[1;33m[\u001b[0m\u001b[1;33m:\u001b[0m\u001b[1;36m500000\u001b[0m\u001b[1;33m]\u001b[0m\u001b[1;33m,\u001b[0m \u001b[0my\u001b[0m\u001b[1;33m[\u001b[0m\u001b[1;33m:\u001b[0m\u001b[1;36m500000\u001b[0m\u001b[1;33m]\u001b[0m\u001b[1;33m,\u001b[0m \u001b[0mepochs\u001b[0m\u001b[1;33m=\u001b[0m\u001b[1;36m100\u001b[0m\u001b[1;33m,\u001b[0m \u001b[0mbatch_size\u001b[0m\u001b[1;33m=\u001b[0m\u001b[1;36m128\u001b[0m\u001b[1;33m)\u001b[0m\u001b[1;33m\u001b[0m\u001b[1;33m\u001b[0m\u001b[0m\n\u001b[0m\u001b[0;32m      2\u001b[0m \u001b[1;31m# [:500000]\u001b[0m\u001b[1;33m\u001b[0m\u001b[1;33m\u001b[0m\u001b[1;33m\u001b[0m\u001b[0m\n\u001b[0;32m      3\u001b[0m \u001b[0mmodel\u001b[0m\u001b[1;33m.\u001b[0m\u001b[0msave\u001b[0m\u001b[1;33m(\u001b[0m\u001b[1;34m\"v5_l\"\u001b[0m\u001b[1;33m)\u001b[0m\u001b[1;33m\u001b[0m\u001b[1;33m\u001b[0m\u001b[0m\n",
      "\u001b[1;31mNameError\u001b[0m: name 'model' is not defined"
     ]
    }
   ],
   "source": [
    "model.fit(X[:500000], y[:500000], epochs=100, batch_size=128)\n",
    "# [:500000]\n",
    "model.save(\"v5_l\")"
   ]
  },
  {
   "cell_type": "code",
   "execution_count": 32,
   "id": "c81e3d9b-bddb-42a1-acde-13e94aae3984",
   "metadata": {},
   "outputs": [],
   "source": [
    "int_to_char = dict((i, c) for i, c in enumerate(chars))"
   ]
  },
  {
   "cell_type": "code",
   "execution_count": 33,
   "id": "04b83ab6-57d5-496c-a686-b1fbcfab0d35",
   "metadata": {},
   "outputs": [
    {
     "name": "stdout",
     "output_type": "stream",
     "text": [
      "Seed:\n",
      "oooooooooooooooooooooooooooooooooooooooooooooooooooooooooooooooooooooooooooooooooooooooooooooooooooo\n",
      "Done.\n"
     ]
    }
   ],
   "source": [
    "start = numpy.random.randint(0, len(dataX)-1)\n",
    "# start = \"hehe \"\n",
    "pattern = dataX[start]\n",
    "# pattern = \"hehe \"\n",
    "print(\"Seed:\")\n",
    "# print(\"\\\"\", ''.join([int_to_char[value] for value in pattern]), \"\\\"\")\n",
    "# generate characters\n",
    "for i in range(100):\n",
    "    x = numpy.reshape(pattern, (1, len(pattern), 1))\n",
    "    x = x / float(n_vocab)\n",
    "    prediction = model.predict(x, verbose=0)\n",
    "    index = numpy.argmax(prediction)\n",
    "    result = int_to_char[index]\n",
    "    seq_in = [int_to_char[value] for value in pattern]\n",
    "    sys.stdout.write(result)\n",
    "    pattern.append(index)\n",
    "    pattern = pattern[1:len(pattern)]\n",
    "print(\"\\nDone.\")"
   ]
  },
  {
   "cell_type": "code",
   "execution_count": 21,
   "id": "5d706ca7-d162-4157-9a5e-65bc1609b4c0",
   "metadata": {},
   "outputs": [],
   "source": [
    "model2 = keras.models.load_model(\"v3\")"
   ]
  },
  {
   "cell_type": "code",
   "execution_count": 37,
   "id": "f9fe578a-6e48-47b6-92ef-b35195a39b50",
   "metadata": {},
   "outputs": [
    {
     "name": "stdout",
     "output_type": "stream",
     "text": [
      "Seed:\n",
      "\" accidently  \"\n",
      "lakes ayea say ho pooked fotl rake holategon  teet of honeng fiel gor tcf 2l\"ageu gio so fofeas hieo on deme thtter wines wh dovn ses  oeat oo cone thieer aidce so deiahi fites foono goe bin gies coe \n",
      "Done.\n"
     ]
    }
   ],
   "source": [
    "# start = numpy.random.randint(0, len(dataX)-1)\n",
    "# pattern = dataX[start]\n",
    "word = \"accidently \"\n",
    "pattern = [char_to_int[char] for char in word]\n",
    "# pattern2 = [int_to_char[char] for char in patterns]\n",
    "# print(pattern2)\n",
    "print(\"Seed:\")\n",
    "print(\"\\\"\", ''.join([int_to_char[value] for value in pattern]), \"\\\"\")\n",
    "# generate characters\n",
    "for i in range(200):\n",
    "    x = numpy.reshape(pattern, (1, len(pattern), 1))\n",
    "    x = x / float(n_vocab)\n",
    "    prediction = model2.predict(x, verbose=0)\n",
    "    index = numpy.argmax(prediction)\n",
    "    result = int_to_char[index]\n",
    "    seq_in = [int_to_char[value] for value in pattern]\n",
    "    sys.stdout.write(result)\n",
    "    pattern.append(index)\n",
    "    pattern = pattern[1:len(pattern)]\n",
    "print(\"\\nDone.\")"
   ]
  },
  {
   "cell_type": "code",
   "execution_count": null,
   "id": "ecfd257d-5f0c-462b-bfb4-4a79bfe64f77",
   "metadata": {},
   "outputs": [],
   "source": [
    "[char_to_int[char] for char in seq_in]"
   ]
  },
  {
   "cell_type": "code",
   "execution_count": null,
   "id": "99bdaeb5-2b31-443b-88fe-bfd76b06f1b8",
   "metadata": {},
   "outputs": [],
   "source": [
    "a = result2.split(\"|\")"
   ]
  },
  {
   "cell_type": "code",
   "execution_count": 97,
   "id": "7e436dab-fac4-42c1-96b7-dbd494b4c475",
   "metadata": {},
   "outputs": [
    {
     "data": {
      "text/plain": [
       "[' hires magician for birthday party',\n",
       " 'voldemort  takes a bullet for a girl',\n",
       " 'gets friendzoned dies in video game',\n",
       " 'fifa  deletes e-mail offering millyooms ofro fall',\n",
       " 'oon oerear first a party',\n",
       " 'gets kicked out w']"
      ]
     },
     "execution_count": 97,
     "metadata": {},
     "output_type": "execute_result"
    }
   ],
   "source": [
    "a"
   ]
  },
  {
   "cell_type": "code",
   "execution_count": 87,
   "id": "7cdd1b01-8209-4231-8cc6-0eacca596fde",
   "metadata": {
    "scrolled": true,
    "tags": []
   },
   "outputs": [
    {
     "data": {
      "text/plain": [
       "['s',\n",
       " 't',\n",
       " 'e',\n",
       " 'r',\n",
       " ' ',\n",
       " 'g',\n",
       " 'i',\n",
       " 'r',\n",
       " 'l',\n",
       " ' ',\n",
       " 'b',\n",
       " 'u',\n",
       " 'r',\n",
       " 'n',\n",
       " 's',\n",
       " ' ',\n",
       " 'i',\n",
       " 't',\n",
       " ' ',\n",
       " 't',\n",
       " 'o',\n",
       " ' ',\n",
       " 't',\n",
       " 'h',\n",
       " 'e',\n",
       " ' ',\n",
       " 'g',\n",
       " 'r',\n",
       " 'o',\n",
       " 'u',\n",
       " 'n',\n",
       " 'd',\n",
       " ' ',\n",
       " 'f',\n",
       " 'i',\n",
       " 'n',\n",
       " 'a',\n",
       " 'l',\n",
       " 'l',\n",
       " 'y',\n",
       " ' ',\n",
       " 'g',\n",
       " 'e',\n",
       " 't',\n",
       " 's',\n",
       " ' ',\n",
       " 'a',\n",
       " ' ',\n",
       " 'g',\n",
       " 'i',\n",
       " 'r',\n",
       " 'l',\n",
       " 'f',\n",
       " 'r',\n",
       " 'i',\n",
       " 'e',\n",
       " 'n',\n",
       " 'd',\n",
       " '|',\n",
       " 'i',\n",
       " 't',\n",
       " 's',\n",
       " ' ',\n",
       " 'j',\n",
       " 'u',\n",
       " 's',\n",
       " 't',\n",
       " 'i',\n",
       " 'n',\n",
       " ' ',\n",
       " 'b',\n",
       " 'i',\n",
       " 'e',\n",
       " 'b',\n",
       " 'e',\n",
       " 'r',\n",
       " ' ',\n",
       " 'h',\n",
       " 'i',\n",
       " ' ',\n",
       " 'p',\n",
       " 'i',\n",
       " 'e',\n",
       " 'p',\n",
       " 'l',\n",
       " 'e',\n",
       " 's',\n",
       " '|',\n",
       " 'f',\n",
       " 'r',\n",
       " 'e',\n",
       " 'n',\n",
       " 'd',\n",
       " ' ',\n",
       " 's',\n",
       " 'h',\n",
       " 'e',\n",
       " ' ',\n",
       " 'h',\n",
       " 'e']"
      ]
     },
     "execution_count": 87,
     "metadata": {},
     "output_type": "execute_result"
    }
   ],
   "source": [
    "seq_in"
   ]
  }
 ],
 "metadata": {
  "kernelspec": {
   "display_name": "Python 3",
   "language": "python",
   "name": "python3"
  },
  "language_info": {
   "codemirror_mode": {
    "name": "ipython",
    "version": 3
   },
   "file_extension": ".py",
   "mimetype": "text/x-python",
   "name": "python",
   "nbconvert_exporter": "python",
   "pygments_lexer": "ipython3",
   "version": "3.6.13"
  }
 },
 "nbformat": 4,
 "nbformat_minor": 5
}
